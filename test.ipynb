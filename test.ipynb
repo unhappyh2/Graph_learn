{
 "cells": [
  {
   "cell_type": "code",
   "execution_count": 157,
   "metadata": {},
   "outputs": [],
   "source": [
    "import torch\n",
    "from torch_geometric.nn import MessagePassing\n",
    "from torch_geometric.utils import add_self_loops\n",
    "from torch_geometric.data import HeteroData\n",
    "from torch import nn\n",
    "import matplotlib.pyplot as plt"
   ]
  },
  {
   "cell_type": "code",
   "execution_count": 158,
   "metadata": {},
   "outputs": [
    {
     "name": "stdout",
     "output_type": "stream",
     "text": [
      "adj[0]: tensor([0, 3, 4, 1, 4, 1])\n"
     ]
    }
   ],
   "source": [
    "\n",
    "# 源节点特征 (6 个源节点，每个节点 16 维特征)\n",
    "src = torch.tensor([\n",
    "    [1, 1, 1, 1, 1, 1],  # 源节点索引\n",
    "    [2, 2, 2, 2, 2, 2],\n",
    "    [3, 3, 3, 3, 3, 3],\n",
    "    [4, 4, 4, 4, 4, 4],  \n",
    "    [5, 5, 5, 5, 5, 5]\n",
    "], dtype=torch.float)\n",
    "tgt = torch.tensor([\n",
    "    [1, 1, 1, 1, 1, 1],  \n",
    "    [1, 1, 1, 1, 1, 1],\n",
    "    [1, 1, 1, 1, 1, 1]\n",
    "], dtype=torch.float)\n",
    "adj = torch.tensor([\n",
    "    [0, 3, 4, 1, 4, 1],  # 源节点索引\n",
    "    [0, 0, 0, 1, 1, 2]   # 目标节点索引\n",
    "], dtype=torch.long)\n",
    "print(\"adj[0]:\",adj[0])\n",
    "data = HeteroData()\n",
    "data['src'] = src\n",
    "data['tgt'] = tgt\n",
    "data['adj'] = adj\n"
   ]
  },
  {
   "cell_type": "code",
   "execution_count": 159,
   "metadata": {},
   "outputs": [],
   "source": [
    "class GNN(MessagePassing):\n",
    "    def __init__(self, in_channels, out_channels):\n",
    "        super(GNN, self).__init__(aggr='sum', flow='source_to_target')\n",
    "        self.linear = torch.nn.Linear(in_channels, out_channels)\n",
    "        self.sigmoid = torch.nn.Sigmoid()\n",
    "        self.matrix = nn.Parameter(torch.randn(in_channels, in_channels, requires_grad=True))\n",
    "\n",
    "    def forward(self, data: HeteroData):\n",
    "        x_src, x_tgt, edge_index = data['src'], data['tgt'], data['adj']\n",
    "        out = self.propagate(x_src=x_src, x_tgt=x_tgt,edge_index=edge_index)\n",
    "        #out = self.linear(out)\n",
    "        return out\n",
    "    \n",
    "    def message(self, x_src,edge_index):\n",
    "        message_src = x_src[edge_index[0]]\n",
    "        return message_src\n",
    "    \n",
    "    def aggregate(self, inputs, edge_index, dim_size=None):\n",
    "        weights = self.calculate_weights(edge_index[1])\n",
    "        weights = weights.view(-1, 1).expand_as(inputs)\n",
    "        inputs = inputs * weights\n",
    "\n",
    "        return super().aggregate(inputs, edge_index[1])\n",
    "    \n",
    "\n",
    "    def update(self, aggr_out):\n",
    "        aggr_out = torch.matmul(aggr_out, self.matrix.t())\n",
    "        aggr_out = self.sigmoid(aggr_out)\n",
    "        return aggr_out\n",
    "    def calculate_weights(self,index):\n",
    "        \"\"\"\n",
    "        计算每个索引位置的权重（根据相同元素的数量）\n",
    "        Args:\n",
    "            index: 索引数组，如 [0,0,0,1,1,2,2,3]\n",
    "        Returns:\n",
    "            weights: 权重数组，如 [0.33,0.33,0.33,0.5,0.5,0.5,0.5,1]\n",
    "        \"\"\"\n",
    "        # 使用 unique_counts 获取每个元素的计数\n",
    "        unique_elements, counts = torch.unique(index, return_counts=True)\n",
    "        \n",
    "        # 创建一个和输入相同大小的权重张量\n",
    "        weights = torch.zeros_like(index, dtype=torch.float)\n",
    "        \n",
    "        # 为每个元素分配权重\n",
    "        for element, count in zip(unique_elements, counts):\n",
    "            weights[index == element] = 1.0 / count.float()\n",
    "        \n",
    "        return weights\n"
   ]
  },
  {
   "cell_type": "code",
   "execution_count": 160,
   "metadata": {},
   "outputs": [],
   "source": [
    "def lossfunction(emd_out,data: HeteroData):\n",
    "        x_src = data['src']\n",
    "        edge_index = data['adj']\n",
    "        x_src = x_src[edge_index[0]]\n",
    "        x_src = x_src.t()\n",
    "        simliarity = torch.matmul(emd_out , x_src)\n",
    "        simliarity = torch.sum(simliarity, dim=0)\n",
    "        loss = torch.mean(simliarity)\n",
    "        return loss\n"
   ]
  },
  {
   "cell_type": "code",
   "execution_count": 161,
   "metadata": {},
   "outputs": [
    {
     "name": "stdout",
     "output_type": "stream",
     "text": [
      "out: tensor([[1.0000, 0.9940, 0.0513, 0.9243, 0.9920, 0.8351],\n",
      "        [1.0000, 0.9954, 0.0447, 0.9326, 0.9937, 0.8460],\n",
      "        [0.9999, 0.9556, 0.1481, 0.8177, 0.9475, 0.7258]],\n",
      "       grad_fn=<SigmoidBackward0>)\n",
      "loss: tensor(44.9786, grad_fn=<MeanBackward0>)\n"
     ]
    }
   ],
   "source": [
    "model = GNN(6, 6)\n",
    "out = model(data)\n",
    "loss = lossfunction(out,data)\n",
    "print(\"out:\",out)\n",
    "print(\"loss:\",loss)\n",
    "\n"
   ]
  },
  {
   "cell_type": "code",
   "execution_count": 162,
   "metadata": {},
   "outputs": [
    {
     "name": "stdout",
     "output_type": "stream",
     "text": [
      "loss: tensor(44.9786, grad_fn=<MeanBackward0>)\n",
      "loss: tensor(0.3857, grad_fn=<MeanBackward0>)\n",
      "loss: tensor(0.1815, grad_fn=<MeanBackward0>)\n",
      "loss: tensor(0.1099, grad_fn=<MeanBackward0>)\n",
      "loss: tensor(0.0750, grad_fn=<MeanBackward0>)\n",
      "loss: tensor(0.0550, grad_fn=<MeanBackward0>)\n",
      "loss: tensor(0.0423, grad_fn=<MeanBackward0>)\n",
      "loss: tensor(0.0337, grad_fn=<MeanBackward0>)\n",
      "loss: tensor(0.0276, grad_fn=<MeanBackward0>)\n",
      "loss: tensor(0.0230, grad_fn=<MeanBackward0>)\n",
      "loss: tensor(0.0195, grad_fn=<MeanBackward0>)\n",
      "loss: tensor(0.0168, grad_fn=<MeanBackward0>)\n",
      "loss: tensor(0.0146, grad_fn=<MeanBackward0>)\n",
      "loss: tensor(0.0128, grad_fn=<MeanBackward0>)\n",
      "loss: tensor(0.0113, grad_fn=<MeanBackward0>)\n",
      "loss: tensor(0.0100, grad_fn=<MeanBackward0>)\n",
      "loss: tensor(0.0090, grad_fn=<MeanBackward0>)\n",
      "loss: tensor(0.0081, grad_fn=<MeanBackward0>)\n",
      "loss: tensor(0.0073, grad_fn=<MeanBackward0>)\n",
      "loss: tensor(0.0066, grad_fn=<MeanBackward0>)\n",
      "loss: tensor(0.0060, grad_fn=<MeanBackward0>)\n",
      "loss: tensor(0.0055, grad_fn=<MeanBackward0>)\n",
      "loss: tensor(0.0050, grad_fn=<MeanBackward0>)\n",
      "loss: tensor(0.0046, grad_fn=<MeanBackward0>)\n",
      "loss: tensor(0.0043, grad_fn=<MeanBackward0>)\n",
      "loss: tensor(0.0039, grad_fn=<MeanBackward0>)\n",
      "loss: tensor(0.0036, grad_fn=<MeanBackward0>)\n",
      "loss: tensor(0.0034, grad_fn=<MeanBackward0>)\n",
      "loss: tensor(0.0031, grad_fn=<MeanBackward0>)\n",
      "loss: tensor(0.0029, grad_fn=<MeanBackward0>)\n",
      "loss: tensor(0.0027, grad_fn=<MeanBackward0>)\n",
      "loss: tensor(0.0025, grad_fn=<MeanBackward0>)\n",
      "loss: tensor(0.0023, grad_fn=<MeanBackward0>)\n",
      "loss: tensor(0.0022, grad_fn=<MeanBackward0>)\n",
      "loss: tensor(0.0021, grad_fn=<MeanBackward0>)\n",
      "loss: tensor(0.0019, grad_fn=<MeanBackward0>)\n",
      "loss: tensor(0.0018, grad_fn=<MeanBackward0>)\n",
      "loss: tensor(0.0017, grad_fn=<MeanBackward0>)\n",
      "loss: tensor(0.0016, grad_fn=<MeanBackward0>)\n",
      "loss: tensor(0.0015, grad_fn=<MeanBackward0>)\n",
      "loss: tensor(0.0014, grad_fn=<MeanBackward0>)\n",
      "loss: tensor(0.0013, grad_fn=<MeanBackward0>)\n",
      "loss: tensor(0.0012, grad_fn=<MeanBackward0>)\n",
      "loss: tensor(0.0012, grad_fn=<MeanBackward0>)\n",
      "loss: tensor(0.0011, grad_fn=<MeanBackward0>)\n",
      "loss: tensor(0.0010, grad_fn=<MeanBackward0>)\n",
      "loss: tensor(0.0010, grad_fn=<MeanBackward0>)\n",
      "loss: tensor(0.0009, grad_fn=<MeanBackward0>)\n",
      "loss: tensor(0.0009, grad_fn=<MeanBackward0>)\n",
      "loss: tensor(0.0008, grad_fn=<MeanBackward0>)\n",
      "loss: tensor(0.0008, grad_fn=<MeanBackward0>)\n",
      "loss: tensor(0.0007, grad_fn=<MeanBackward0>)\n",
      "loss: tensor(0.0007, grad_fn=<MeanBackward0>)\n",
      "loss: tensor(0.0007, grad_fn=<MeanBackward0>)\n",
      "loss: tensor(0.0006, grad_fn=<MeanBackward0>)\n",
      "loss: tensor(0.0006, grad_fn=<MeanBackward0>)\n",
      "loss: tensor(0.0006, grad_fn=<MeanBackward0>)\n",
      "loss: tensor(0.0005, grad_fn=<MeanBackward0>)\n",
      "loss: tensor(0.0005, grad_fn=<MeanBackward0>)\n",
      "loss: tensor(0.0005, grad_fn=<MeanBackward0>)\n",
      "loss: tensor(0.0004, grad_fn=<MeanBackward0>)\n",
      "loss: tensor(0.0004, grad_fn=<MeanBackward0>)\n",
      "loss: tensor(0.0004, grad_fn=<MeanBackward0>)\n",
      "loss: tensor(0.0004, grad_fn=<MeanBackward0>)\n",
      "loss: tensor(0.0004, grad_fn=<MeanBackward0>)\n",
      "loss: tensor(0.0003, grad_fn=<MeanBackward0>)\n",
      "loss: tensor(0.0003, grad_fn=<MeanBackward0>)\n",
      "loss: tensor(0.0003, grad_fn=<MeanBackward0>)\n",
      "loss: tensor(0.0003, grad_fn=<MeanBackward0>)\n",
      "loss: tensor(0.0003, grad_fn=<MeanBackward0>)\n",
      "loss: tensor(0.0003, grad_fn=<MeanBackward0>)\n",
      "loss: tensor(0.0002, grad_fn=<MeanBackward0>)\n",
      "loss: tensor(0.0002, grad_fn=<MeanBackward0>)\n",
      "loss: tensor(0.0002, grad_fn=<MeanBackward0>)\n",
      "loss: tensor(0.0002, grad_fn=<MeanBackward0>)\n",
      "loss: tensor(0.0002, grad_fn=<MeanBackward0>)\n",
      "loss: tensor(0.0002, grad_fn=<MeanBackward0>)\n",
      "loss: tensor(0.0002, grad_fn=<MeanBackward0>)\n",
      "loss: tensor(0.0002, grad_fn=<MeanBackward0>)\n",
      "loss: tensor(0.0002, grad_fn=<MeanBackward0>)\n",
      "loss: tensor(0.0002, grad_fn=<MeanBackward0>)\n",
      "loss: tensor(0.0001, grad_fn=<MeanBackward0>)\n",
      "loss: tensor(0.0001, grad_fn=<MeanBackward0>)\n",
      "loss: tensor(0.0001, grad_fn=<MeanBackward0>)\n",
      "loss: tensor(0.0001, grad_fn=<MeanBackward0>)\n",
      "loss: tensor(0.0001, grad_fn=<MeanBackward0>)\n",
      "loss: tensor(0.0001, grad_fn=<MeanBackward0>)\n",
      "loss: tensor(0.0001, grad_fn=<MeanBackward0>)\n",
      "loss: tensor(0.0001, grad_fn=<MeanBackward0>)\n",
      "loss: tensor(9.9032e-05, grad_fn=<MeanBackward0>)\n",
      "loss: tensor(9.4122e-05, grad_fn=<MeanBackward0>)\n",
      "loss: tensor(8.9460e-05, grad_fn=<MeanBackward0>)\n",
      "loss: tensor(8.5033e-05, grad_fn=<MeanBackward0>)\n",
      "loss: tensor(8.0828e-05, grad_fn=<MeanBackward0>)\n",
      "loss: tensor(7.6834e-05, grad_fn=<MeanBackward0>)\n",
      "loss: tensor(7.3039e-05, grad_fn=<MeanBackward0>)\n",
      "loss: tensor(6.9432e-05, grad_fn=<MeanBackward0>)\n",
      "loss: tensor(6.6006e-05, grad_fn=<MeanBackward0>)\n",
      "loss: tensor(6.2751e-05, grad_fn=<MeanBackward0>)\n",
      "loss: tensor(5.9659e-05, grad_fn=<MeanBackward0>)\n",
      "out: tensor([[6.2738e-10, 8.1290e-10, 3.4375e-11, 8.7858e-10, 8.2206e-10, 8.5770e-10],\n",
      "        [2.1747e-10, 2.8546e-10, 1.0305e-11, 3.0972e-10, 2.8883e-10, 3.0200e-10],\n",
      "        [3.0097e-06, 3.5158e-06, 5.2692e-07, 3.6835e-06, 3.5395e-06, 3.6308e-06]],\n",
      "       grad_fn=<SigmoidBackward0>)\n"
     ]
    }
   ],
   "source": [
    "iteration = 10000\n",
    "learning_rate = 0.01\n",
    "loss_list = []\n",
    "optimizer = torch.optim.Adam(model.parameters(), lr=learning_rate)\n",
    "for i in range(iteration):\n",
    "    out = model(data)\n",
    "    loss = lossfunction(out,data)\n",
    "    loss_list.append(loss.item())\n",
    "    optimizer.zero_grad()\n",
    "    loss.backward()\n",
    "    optimizer.step()\n",
    "    if i % 100 == 0:\n",
    "        print(\"loss:\",loss)\n",
    "print(\"out:\",model(data))\n"
   ]
  },
  {
   "cell_type": "code",
   "execution_count": 163,
   "metadata": {},
   "outputs": [
    {
     "data": {
      "image/png": "[encoded data removed]",
      "text/plain": [
       "<Figure size 640x480 with 1 Axes>"
      ]
     },
     "metadata": {},
     "output_type": "display_data"
    }
   ],
   "source": [
    "\n",
    "plt.plot(loss_list)\n",
    "plt.show()\n",
    "\n",
    "\n"
   ]
  },
  {
   "cell_type": "code",
   "execution_count": null,
   "metadata": {},
   "outputs": [],
   "source": []
  }
 ],
 "metadata": {
  "kernelspec": {
   "display_name": "graph_learn",
   "language": "python",
   "name": "python3"
  },
  "language_info": {
   "codemirror_mode": {
    "name": "ipython",
    "version": 3
   },
   "file_extension": ".py",
   "mimetype": "text/x-python",
   "name": "python",
   "nbconvert_exporter": "python",
   "pygments_lexer": "ipython3",
   "version": "3.10.15"
  }
 },
 "nbformat": 4,
 "nbformat_minor": 2
}
