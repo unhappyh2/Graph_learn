{
 "cells": [
  {
   "cell_type": "code",
   "execution_count": 1,
   "metadata": {},
   "outputs": [
    {
     "name": "stderr",
     "output_type": "stream",
     "text": [
      "c:\\Users\\24717\\.conda\\envs\\graph_learn\\lib\\site-packages\\tqdm\\auto.py:21: TqdmWarning: IProgress not found. Please update jupyter and ipywidgets. See https://ipywidgets.readthedocs.io/en/stable/user_install.html\n",
      "  from .autonotebook import tqdm as notebook_tqdm\n"
     ]
    }
   ],
   "source": [
    "from kg_get import Get_kg\n",
    "from get_csv import DataProcess, SequenceEncoder, GenresEncoder, IdentityEncoder\n",
    "import torch\n",
    "import torch.nn as nn\n",
    "from torch_geometric.data import HeteroData\n",
    "import pandas as pd\n"
   ]
  },
  {
   "cell_type": "code",
   "execution_count": 2,
   "metadata": {},
   "outputs": [
    {
     "name": "stdout",
     "output_type": "stream",
     "text": [
      "知识图谱统计信息:\n",
      "三元组总数: 499474\n",
      "关系类型数: 32\n",
      "实体总数: 102569\n",
      "\n",
      "关系分布:\n",
      "    Relation ID   Count\n",
      "1             1  277059\n",
      "12           31   33385\n",
      "0            20   21624\n",
      "15           27   20967\n",
      "14           14   17359\n",
      "3            19   16473\n",
      "9            29   13525\n",
      "13            4   13304\n",
      "6            26   12567\n",
      "11           24   12546\n",
      "4             7   11341\n",
      "16           28   11136\n",
      "7            22   10869\n",
      "10           10    8143\n",
      "2            17    6315\n",
      "8            25    5832\n",
      "5             2    5493\n",
      "19            8     380\n",
      "20            3     380\n",
      "21           13     234\n",
      "17           30     143\n",
      "18           15     110\n",
      "25            9     110\n",
      "22           11     108\n",
      "23           18      54\n",
      "27           12       6\n",
      "28           23       4\n",
      "26            5       2\n",
      "29           16       2\n",
      "24           21       1\n",
      "30           32       1\n",
      "31            6       1\n",
      "\n",
      "关系映射表:\n",
      "关系: film.film.actor, ID: 1\n",
      "关系: film.film.set_designer, ID: 2\n",
      "关系: award.nominated_work.nomination, ID: 3\n",
      "关系: film.film.star, ID: 4\n",
      "关系: film.film.casting_director, ID: 5\n",
      "关系: film.film.sequel, ID: 6\n",
      "关系: film.film.executive_producer, ID: 7\n",
      "关系: media_common.creative_work.nominations, ID: 8\n",
      "关系: award.winning_work.honor, ID: 9\n",
      "关系: film.film.rating, ID: 10\n",
      "关系: film.film.performance, ID: 11\n",
      "关系: tv.series_episode.director, ID: 12\n",
      "关系: film.film.location, ID: 13\n",
      "关系: film.film.writer, ID: 14\n",
      "关系: media_common.creative_work.honors, ID: 15\n",
      "关系: tv.series_episode.writer, ID: 16\n",
      "关系: film.film.costume_designer, ID: 17\n",
      "关系: film.film.series, ID: 18\n",
      "关系: film.film.director, ID: 19\n",
      "关系: film.film.producer, ID: 20\n",
      "关系: tv.program.genre, ID: 21\n",
      "关系: film.film.music, ID: 22\n",
      "关系: film.film.genre_ranking, ID: 23\n",
      "关系: film.film.editor, ID: 24\n",
      "关系: film.film.production_company, ID: 25\n",
      "关系: film.film.country, ID: 26\n",
      "关系: film.film.language, ID: 27\n",
      "关系: film.film.cinematographer, ID: 28\n",
      "关系: film.film.art_director, ID: 29\n",
      "关系: tv.program.country_of_origin, ID: 30\n",
      "关系: film.film.genre, ID: 31\n",
      "关系: film.film.production_designer, ID: 32\n",
      "\n",
      "示例三元组:\n",
      "头实体: 11904, 关系ID: 20, 尾实体: 16954\n",
      "头实体: 348, 关系ID: 1, 尾实体: 16955\n",
      "头实体: 13598, 关系ID: 17, 尾实体: 16956\n",
      "头实体: 9098, 关系ID: 1, 尾实体: 16957\n",
      "头实体: 14187, 关系ID: 19, 尾实体: 16958\n",
      "\n",
      "平均出度: 29.46\n",
      "平均入度: 5.83\n"
     ]
    }
   ],
   "source": [
    "Kg_triples_withIds, Kg_relation_toId, Kg_entity_num= Get_kg('../data/movie/kg.txt')\n",
    "Kg_data = HeteroData()\n",
    "Kg_data['triples_withIds'] = Kg_triples_withIds\n",
    "Kg_data['relation_toId'] = Kg_relation_toId\n",
    "\n"
   ]
  },
  {
   "cell_type": "code",
   "execution_count": 3,
   "metadata": {},
   "outputs": [
    {
     "name": "stdout",
     "output_type": "stream",
     "text": [
      "   movieId                               title  \\\n",
      "0        1                    Toy Story (1995)   \n",
      "1        2                      Jumanji (1995)   \n",
      "2        3             Grumpier Old Men (1995)   \n",
      "3        4            Waiting to Exhale (1995)   \n",
      "4        5  Father of the Bride Part II (1995)   \n",
      "\n",
      "                                        genres  \n",
      "0  Adventure|Animation|Children|Comedy|Fantasy  \n",
      "1                   Adventure|Children|Fantasy  \n",
      "2                               Comedy|Romance  \n",
      "3                         Comedy|Drama|Romance  \n",
      "4                                       Comedy  \n",
      "   userId  movieId  rating  timestamp\n",
      "0       1        1     4.0  964982703\n",
      "1       1        3     4.0  964981247\n",
      "2       1        6     4.0  964982224\n",
      "3       1       47     5.0  964983815\n",
      "4       1       50     5.0  964982931\n"
     ]
    },
    {
     "name": "stderr",
     "output_type": "stream",
     "text": [
      "Batches: 100%|██████████| 305/305 [00:03<00:00, 82.22it/s] \n"
     ]
    }
   ],
   "source": [
    "\n",
    "movie_path = '../data/ml-latest-small/movies.csv'\n",
    "rating_path = '../data/ml-latest-small/ratings.csv'\n",
    "print(pd.read_csv(movie_path).head())\n",
    "print(pd.read_csv(rating_path).head())\n",
    "\n",
    "data_process = DataProcess()\n",
    "_, users_mapping = data_process.load_node_csv(rating_path, index_col='userId')\n",
    "items_x, items_mapping = data_process.load_node_csv(\n",
    "    movie_path, index_col='movieId', encoders={\n",
    "        'title': SequenceEncoder(),\n",
    "        'genres': GenresEncoder()\n",
    "    })\n",
    "\n",
    "edge_index, edge_label = data_process.load_edge_csv(\n",
    "    rating_path,\n",
    "    src_index_col='movieId',\n",
    "    src_mapping=items_mapping,\n",
    "    dst_index_col='userId',\n",
    "    dst_mapping=users_mapping,\n",
    "    encoders={'rating': IdentityEncoder(dtype=torch.long)},\n",
    ")\n",
    "\n",
    "Interaction_data = HeteroData()\n",
    "Interaction_data['users'].mapping = users_mapping\n",
    "Interaction_data['items'].x = items_x\n",
    "Interaction_data['items'].mapping = items_mapping\n",
    "Interaction_data['edge'].edge_index = edge_index\n",
    "Interaction_data['edge'].edge_label = edge_label\n",
    "\n",
    "num_node = len(users_mapping)+len(items_mapping)\n",
    "user_emb = nn.Embedding(num_embeddings=len(users_mapping)+1, embedding_dim=items_x.size(dim=1))\n",
    "nn.init.normal_(user_emb.weight, std=0.1)\n",
    "user_x=torch.arange(1,len(users_mapping)+1).view(1,-1)\n",
    "user_x = torch.LongTensor(user_x)\n",
    "user_x = user_emb(user_x)\n",
    "user_x = user_x.squeeze(0)\n",
    "Interaction_data['users'].x = user_x\n"
   ]
  },
  {
   "cell_type": "code",
   "execution_count": 5,
   "metadata": {},
   "outputs": [],
   "source": [
    "Kg_entity_emmbedding = nn.Embedding(num_embeddings=Kg_entity_num+1, embedding_dim=items_x.size(dim=1))\n",
    "nn.init.normal_(Kg_entity_emmbedding.weight, std=0.1)\n",
    "Kg_entity_x=torch.arange(1,Kg_entity_num+1).view(1,-1)\n",
    "Kg_entity_x = torch.LongTensor(Kg_entity_x)\n",
    "Kg_entity_x = Kg_entity_emmbedding(Kg_entity_x)\n",
    "Kg_entity_x = Kg_entity_x.squeeze(0)\n",
    "Kg_data['entities'].x = Kg_entity_x\n"
   ]
  }
 ],
 "metadata": {
  "kernelspec": {
   "display_name": "graph_learn",
   "language": "python",
   "name": "python3"
  },
  "language_info": {
   "codemirror_mode": {
    "name": "ipython",
    "version": 3
   },
   "file_extension": ".py",
   "mimetype": "text/x-python",
   "name": "python",
   "nbconvert_exporter": "python",
   "pygments_lexer": "ipython3",
   "version": "3.10.15"
  }
 },
 "nbformat": 4,
 "nbformat_minor": 2
}
