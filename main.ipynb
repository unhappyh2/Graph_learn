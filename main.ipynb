{
 "cells": [
  {
   "cell_type": "code",
   "execution_count": 72,
   "metadata": {},
   "outputs": [],
   "source": [
    "import torch.nn.functional as F\n",
    "from torch_geometric.nn import GCNConv"
   ]
  },
  {
   "cell_type": "code",
   "execution_count": 73,
   "metadata": {},
   "outputs": [],
   "source": [
    "from torch_geometric.data import download_url, extract_zip\n",
    "\n",
    "#url = 'https://files.grouplens.org/datasets/movielens/ml-latest-small.zip'\n",
    "#extract_zip(download_url(url, '.'), './data')\n",
    "movie_path = './data/ml-latest-small/movies.csv'\n",
    "rating_path = './data/ml-latest-small/ratings.csv'"
   ]
  },
  {
   "cell_type": "code",
   "execution_count": 74,
   "metadata": {},
   "outputs": [
    {
     "name": "stdout",
     "output_type": "stream",
     "text": [
      "   movieId                               title  \\\n",
      "0        1                    Toy Story (1995)   \n",
      "1        2                      Jumanji (1995)   \n",
      "2        3             Grumpier Old Men (1995)   \n",
      "3        4            Waiting to Exhale (1995)   \n",
      "4        5  Father of the Bride Part II (1995)   \n",
      "\n",
      "                                        genres  \n",
      "0  Adventure|Animation|Children|Comedy|Fantasy  \n",
      "1                   Adventure|Children|Fantasy  \n",
      "2                               Comedy|Romance  \n",
      "3                         Comedy|Drama|Romance  \n",
      "4                                       Comedy  \n",
      "   userId  movieId  rating  timestamp\n",
      "0       1        1     4.0  964982703\n",
      "1       1        3     4.0  964981247\n",
      "2       1        6     4.0  964982224\n",
      "3       1       47     5.0  964983815\n",
      "4       1       50     5.0  964982931\n"
     ]
    }
   ],
   "source": [
    "import pandas as pd\n",
    "\n",
    "print(pd.read_csv(movie_path).head())\n",
    "print(pd.read_csv(rating_path).head())"
   ]
  },
  {
   "cell_type": "code",
   "execution_count": 75,
   "metadata": {},
   "outputs": [],
   "source": [
    "import torch\n",
    "\n",
    "def load_node_csv(path, index_col, encoders=None, **kwargs):\n",
    "    df = pd.read_csv(path, index_col=index_col, **kwargs)\n",
    "    mapping = {index: i for i, index in enumerate(df.index.unique())}\n",
    "\n",
    "    x = None\n",
    "    if encoders is not None:\n",
    "        xs = [encoder(df[col]) for col, encoder in encoders.items()]\n",
    "        x = torch.cat(xs, dim=-1)\n",
    "\n",
    "    return x, mapping"
   ]
  },
  {
   "cell_type": "code",
   "execution_count": 76,
   "metadata": {},
   "outputs": [],
   "source": [
    "from sentence_transformers import SentenceTransformer\n",
    "class SequenceEncoder:\n",
    "    def __init__(self, model_name='all-MiniLM-L6-v2', device=None):\n",
    "        self.device = device\n",
    "        self.model = SentenceTransformer(model_name, device=device)\n",
    "\n",
    "    @torch.no_grad()\n",
    "    def __call__(self, df):\n",
    "        x = self.model.encode(df.values, show_progress_bar=True,\n",
    "                              convert_to_tensor=True, device=self.device)\n",
    "        return x.cpu()"
   ]
  },
  {
   "cell_type": "code",
   "execution_count": 77,
   "metadata": {},
   "outputs": [],
   "source": [
    "class GenresEncoder:\n",
    "    def __init__(self, sep='|'):\n",
    "        self.sep = sep\n",
    "\n",
    "    def __call__(self, df):\n",
    "        genres = set(g for col in df.values for g in col.split(self.sep))\n",
    "        mapping = {genre: i for i, genre in enumerate(genres)}\n",
    "\n",
    "        x = torch.zeros(len(df), len(mapping))\n",
    "        for i, col in enumerate(df.values):\n",
    "            for genre in col.split(self.sep):\n",
    "                x[i, mapping[genre]] = 1\n",
    "        return x"
   ]
  },
  {
   "cell_type": "code",
   "execution_count": 78,
   "metadata": {},
   "outputs": [
    {
     "name": "stderr",
     "output_type": "stream",
     "text": [
      "Batches: 100%|██████████| 305/305 [00:03<00:00, 93.87it/s] \n"
     ]
    }
   ],
   "source": [
    "movie_x, movie_mapping = load_node_csv(\n",
    "    movie_path, index_col='movieId', encoders={\n",
    "        'title': SequenceEncoder(),\n",
    "        'genres': GenresEncoder()\n",
    "    })"
   ]
  },
  {
   "cell_type": "code",
   "execution_count": 79,
   "metadata": {},
   "outputs": [],
   "source": [
    "user_x, user_mapping = load_node_csv(rating_path, index_col='userId')"
   ]
  },
  {
   "cell_type": "code",
   "execution_count": 80,
   "metadata": {},
   "outputs": [
    {
     "name": "stdout",
     "output_type": "stream",
     "text": [
      "HeteroData(\n",
      "  user={ num_nodes=610 },\n",
      "  movie={ x=[9742, 404] }\n",
      ")\n"
     ]
    }
   ],
   "source": [
    "from torch_geometric.data import HeteroData\n",
    "\n",
    "data = HeteroData()\n",
    "\n",
    "data['user'].num_nodes = len(user_mapping)  # Users do not have any features.\n",
    "data['movie'].x = movie_x\n",
    "\n",
    "print(data)"
   ]
  },
  {
   "cell_type": "code",
   "execution_count": 81,
   "metadata": {},
   "outputs": [],
   "source": [
    "def load_edge_csv(path, src_index_col, src_mapping, dst_index_col, dst_mapping,\n",
    "                  encoders=None, **kwargs):\n",
    "    df = pd.read_csv(path, **kwargs)\n",
    "\n",
    "    src = [src_mapping[index] for index in df[src_index_col]]\n",
    "    dst = [dst_mapping[index] for index in df[dst_index_col]]\n",
    "    edge_index = torch.tensor([src, dst])\n",
    "\n",
    "    edge_attr = None\n",
    "    if encoders is not None:\n",
    "        edge_attrs = [encoder(df[col]) for col, encoder in encoders.items()]\n",
    "        edge_attr = torch.cat(edge_attrs, dim=-1)\n",
    "\n",
    "    return edge_index, edge_attr"
   ]
  },
  {
   "cell_type": "code",
   "execution_count": 82,
   "metadata": {},
   "outputs": [],
   "source": [
    "class IdentityEncoder:\n",
    "    def __init__(self, dtype=None):\n",
    "        self.dtype = dtype\n",
    "\n",
    "    def __call__(self, df):\n",
    "        return torch.from_numpy(df.values).view(-1, 1).to(self.dtype)"
   ]
  },
  {
   "cell_type": "code",
   "execution_count": 83,
   "metadata": {},
   "outputs": [],
   "source": [
    "edge_index, edge_label = load_edge_csv(\n",
    "    rating_path,\n",
    "    src_index_col='userId',\n",
    "    src_mapping=user_mapping,\n",
    "    dst_index_col='movieId',\n",
    "    dst_mapping=movie_mapping,\n",
    "    encoders={'rating': IdentityEncoder(dtype=torch.long)},\n",
    ")\n",
    "\n",
    "data['user', 'rates', 'movie'].edge_index = edge_index\n",
    "data['user', 'rates', 'movie'].edge_label = edge_label\n"
   ]
  },
  {
   "cell_type": "code",
   "execution_count": null,
   "metadata": {},
   "outputs": [
    {
     "name": "stdout",
     "output_type": "stream",
     "text": [
      "610\n",
      "torch.Size([1, 610])\n"
     ]
    }
   ],
   "source": [
    "from torch import nn\n",
    "num_node = len(user_mapping)+len(movie_mapping)\n",
    "user_emb = nn.Embedding(num_embeddings=len(user_mapping)+1, embedding_dim=movie_x.size(dim=1))\n",
    "nn.init.normal_(user_emb.weight, std=0.1)\n",
    "user_x=torch.arange(1,len(user_mapping)+1).view(1,-1)\n",
    "user_x = torch.LongTensor(user_x)\n",
    "user_x = user_emb(user_x)\n",
    "user_x = user_x.squeeze(0)"
   ]
  },
  {
   "cell_type": "code",
   "execution_count": null,
   "metadata": {},
   "outputs": [],
   "source": [
    "from torch_geometric.utils import structured_negative_sampling\n",
    "edge_index_new = structured_negative_sampling(edge_index)\n",
    "edge_index_new = torch.stack(edge_index_new, dim=0)"
   ]
  },
  {
   "cell_type": "code",
   "execution_count": null,
   "metadata": {},
   "outputs": [],
   "source": [
    "import torch\n",
    "from torch_geometric.seed import seed_everything\n",
    "from torch_geometric.nn import MessagePassing\n",
    "seed_everything(11)\n",
    "from torch_geometric.utils import add_self_loops, degree"
   ]
  },
  {
   "cell_type": "code",
   "execution_count": null,
   "metadata": {},
   "outputs": [],
   "source": [
    "# 定义GCN空域图卷积神经网络\n",
    "class GCNConv(MessagePassing):\n",
    "    # 网络初始化\n",
    "    def __init__(self, in_channels, out_channels):\n",
    "        \"\"\"\n",
    "        :param in_channels: 节点属性向量的维度\n",
    "        :param out_channels: 经过图卷积之后，节点的特征表示维度\n",
    "        \"\"\"\n",
    "        # 定义伽马函数为求和函数,aggr='add'\n",
    "        super(GCNConv, self).__init__(aggr='add')\n",
    "        # 定义最里面那个线性变换\n",
    "        # 具体到实现中就是一个线性层\n",
    "        self.linear_change = torch.nn.Linear(in_channels, out_channels)\n",
    " \n",
    "    # 定义信息汇聚函数\n",
    "    def message(self, x_j, norm):\n",
    "        # 正则化\n",
    "        # norm.view(-1,1)将norm变为一个列向量\n",
    "        # x_j是节点的特征表示矩阵\n",
    "        return norm.view(-1, 1) * x_j\n",
    " \n",
    "    # 前向传递，进行图卷积\n",
    "    def forward(self, x, edge_index):\n",
    "        \"\"\"\n",
    "        :param x:图中的节点，维度为[节点数,节点属性相邻维度数]\n",
    "        :param edge_index: 图中边的连接信息,维度为[2,边数]\n",
    "        :return:\n",
    "        \"\"\"\n",
    "        # 添加节点到自身的环\n",
    "        # 因为节点最后面汇聚相邻节点信息时包含自身\n",
    "        # add_self_loops会在edge_index边的连接信息表中，\n",
    "        # 添加形如[i,i]这样的信息\n",
    "        # 表示一个节点到自身的环\n",
    "        # 函数返回[边的连接信息，边上的属性信息]\n",
    "        edge_index, _ = add_self_loops(edge_index, num_nodes=x.size(0))\n",
    "        # 进行线性变换\n",
    "        x = self.linear_change(x)\n",
    "        # 计算外面的正则化\n",
    "        row, col = edge_index\n",
    "        # 获取节点的度\n",
    "        deg = degree(col, x.size(0), dtype=x.dtype)\n",
    "        # 带入外面的正则化公式\n",
    "        deg_inv_sqrt = deg.pow(-0.5)\n",
    "        # 将未知的值设为0，避免下面计算出错\n",
    "        deg_inv_sqrt[deg_inv_sqrt == float('inf')] = 0\n",
    "        # 正则化部分\n",
    "        norm = deg_inv_sqrt[row] * deg_inv_sqrt[col]\n",
    "        # 进行信息传递和融合\n",
    "        # propagate会自动调用self.message函数，并将参数传递给它\n",
    "        return self.propagate(edge_index, x=x, norm=norm)\n"
   ]
  },
  {
   "cell_type": "code",
   "execution_count": null,
   "metadata": {},
   "outputs": [],
   "source": [
    "# 实例化一个图卷积神经网络\n",
    "# 并假设图节点属性向量的维度为16，图卷积出来的节点特征表示向量维度为32\n",
    "conv = GCNConv(404, 32)\n",
    "# 随机生成一个节点属性向量\n",
    "# 5个节点，属性向量为16维\n",
    "x = torch.randn(5, 16)\n",
    "# 随机生成边的连接信息\n",
    "# 假设有3条边\n",
    "edge_index = [\n",
    "    [0, 1, 1, 2, 1, 3],\n",
    "    [1, 0, 2, 1, 3, 1]\n",
    "]\n",
    "edge_index = torch.tensor(edge_index, dtype=torch.long)\n",
    "# 进行图卷积\n",
    "output = conv(x, edge_index)\n",
    "# 输出卷积之后的特征表示矩阵\n",
    "print(output.data)\n"
   ]
  }
 ],
 "metadata": {
  "kernelspec": {
   "display_name": "graph_learn",
   "language": "python",
   "name": "python3"
  },
  "language_info": {
   "codemirror_mode": {
    "name": "ipython",
    "version": 3
   },
   "file_extension": ".py",
   "mimetype": "text/x-python",
   "name": "python",
   "nbconvert_exporter": "python",
   "pygments_lexer": "ipython3",
   "version": "3.10.15"
  }
 },
 "nbformat": 4,
 "nbformat_minor": 2
}
