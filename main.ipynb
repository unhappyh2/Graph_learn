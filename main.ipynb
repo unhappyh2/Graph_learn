{
 "cells": [
  {
   "cell_type": "code",
   "execution_count": 84,
   "metadata": {
    "ExecuteTime": {
     "end_time": "2024-11-29T09:24:53.795907Z",
     "start_time": "2024-11-29T09:24:53.777166Z"
    }
   },
   "outputs": [
    {
     "ename": "ModuleNotFoundError",
     "evalue": "No module named 'torch'",
     "output_type": "error",
     "traceback": [
      "\u001b[1;31m---------------------------------------------------------------------------\u001b[0m",
      "\u001b[1;31mModuleNotFoundError\u001b[0m                       Traceback (most recent call last)",
      "Cell \u001b[1;32mIn[84], line 1\u001b[0m\n\u001b[1;32m----> 1\u001b[0m \u001b[38;5;28;01mimport\u001b[39;00m \u001b[38;5;21;01mtorch\u001b[39;00m\u001b[38;5;21;01m.\u001b[39;00m\u001b[38;5;21;01mnn\u001b[39;00m\u001b[38;5;21;01m.\u001b[39;00m\u001b[38;5;21;01mfunctional\u001b[39;00m \u001b[38;5;28;01mas\u001b[39;00m \u001b[38;5;21;01mF\u001b[39;00m\n\u001b[0;32m      2\u001b[0m \u001b[38;5;28;01mfrom\u001b[39;00m \u001b[38;5;21;01mtorch_geometric\u001b[39;00m\u001b[38;5;21;01m.\u001b[39;00m\u001b[38;5;21;01mnn\u001b[39;00m \u001b[38;5;28;01mimport\u001b[39;00m GCNConv\n",
      "\u001b[1;31mModuleNotFoundError\u001b[0m: No module named 'torch'"
     ]
    }
   ],
   "source": [
    "import torch.nn.functional as F\n",
    "from torch_geometric.nn import GCNConv"
   ]
  },
  {
   "cell_type": "code",
   "execution_count": 85,
   "metadata": {
    "ExecuteTime": {
     "end_time": "2024-11-29T09:24:53.851937Z",
     "start_time": "2024-11-29T09:24:53.831830Z"
    }
   },
   "outputs": [
    {
     "ename": "ModuleNotFoundError",
     "evalue": "No module named 'torch_geometric'",
     "output_type": "error",
     "traceback": [
      "\u001b[1;31m---------------------------------------------------------------------------\u001b[0m",
      "\u001b[1;31mModuleNotFoundError\u001b[0m                       Traceback (most recent call last)",
      "Cell \u001b[1;32mIn[85], line 1\u001b[0m\n\u001b[1;32m----> 1\u001b[0m \u001b[38;5;28;01mfrom\u001b[39;00m \u001b[38;5;21;01mtorch_geometric\u001b[39;00m\u001b[38;5;21;01m.\u001b[39;00m\u001b[38;5;21;01mdata\u001b[39;00m \u001b[38;5;28;01mimport\u001b[39;00m download_url, extract_zip\n\u001b[0;32m      3\u001b[0m \u001b[38;5;66;03m#url = 'https://files.grouplens.org/datasets/movielens/ml-latest-small.zip'\u001b[39;00m\n\u001b[0;32m      4\u001b[0m \u001b[38;5;66;03m#extract_zip(download_url(url, '.'), './data')\u001b[39;00m\n\u001b[0;32m      5\u001b[0m movie_path \u001b[38;5;241m=\u001b[39m \u001b[38;5;124m'\u001b[39m\u001b[38;5;124m./data/ml-latest-small/movies.csv\u001b[39m\u001b[38;5;124m'\u001b[39m\n",
      "\u001b[1;31mModuleNotFoundError\u001b[0m: No module named 'torch_geometric'"
     ]
    }
   ],
   "source": [
    "from torch_geometric.data import download_url, extract_zip\n",
    "\n",
    "#url = 'https://files.grouplens.org/datasets/movielens/ml-latest-small.zip'\n",
    "#extract_zip(download_url(url, '.'), './data')\n",
    "movie_path = './data/ml-latest-small/movies.csv'\n",
    "rating_path = './data/ml-latest-small/ratings.csv'"
   ]
  },
  {
   "cell_type": "code",
   "execution_count": null,
   "metadata": {
    "ExecuteTime": {
     "end_time": "2024-11-29T09:24:53.854006Z",
     "start_time": "2024-11-29T09:24:53.854006Z"
    }
   },
   "outputs": [],
   "source": [
    "import pandas as pd\n",
    "\n",
    "print(pd.read_csv(movie_path).head())\n",
    "print(pd.read_csv(rating_path).head())"
   ]
  },
  {
   "cell_type": "code",
   "execution_count": 86,
   "metadata": {
    "ExecuteTime": {
     "end_time": "2024-11-29T09:24:53.907602Z",
     "start_time": "2024-11-29T09:24:53.877471Z"
    }
   },
   "outputs": [
    {
     "ename": "ModuleNotFoundError",
     "evalue": "No module named 'torch'",
     "output_type": "error",
     "traceback": [
      "\u001b[1;31m---------------------------------------------------------------------------\u001b[0m",
      "\u001b[1;31mModuleNotFoundError\u001b[0m                       Traceback (most recent call last)",
      "Cell \u001b[1;32mIn[86], line 1\u001b[0m\n\u001b[1;32m----> 1\u001b[0m \u001b[38;5;28;01mimport\u001b[39;00m \u001b[38;5;21;01mtorch\u001b[39;00m\n\u001b[0;32m      3\u001b[0m \u001b[38;5;28;01mdef\u001b[39;00m \u001b[38;5;21mload_node_csv\u001b[39m(path, index_col, encoders\u001b[38;5;241m=\u001b[39m\u001b[38;5;28;01mNone\u001b[39;00m, \u001b[38;5;241m*\u001b[39m\u001b[38;5;241m*\u001b[39mkwargs):\n\u001b[0;32m      4\u001b[0m     df \u001b[38;5;241m=\u001b[39m pd\u001b[38;5;241m.\u001b[39mread_csv(path, index_col\u001b[38;5;241m=\u001b[39mindex_col, \u001b[38;5;241m*\u001b[39m\u001b[38;5;241m*\u001b[39mkwargs)\n",
      "\u001b[1;31mModuleNotFoundError\u001b[0m: No module named 'torch'"
     ]
    }
   ],
   "source": [
    "import torch\n",
    "\n",
    "def load_node_csv(path, index_col, encoders=None, **kwargs):\n",
    "    df = pd.read_csv(path, index_col=index_col, **kwargs)\n",
    "    mapping = {index: i for i, index in enumerate(df.index.unique())}\n",
    "\n",
    "    x = None\n",
    "    if encoders is not None:\n",
    "        xs = [encoder(df[col]) for col, encoder in encoders.items()]\n",
    "        x = torch.cat(xs, dim=-1)\n",
    "\n",
    "    return x, mapping"
   ]
  },
  {
   "cell_type": "code",
   "execution_count": null,
   "metadata": {},
   "outputs": [],
   "source": [
    "from sentence_transformers import SentenceTransformer\n",
    "class SequenceEncoder:\n",
    "    def __init__(self, model_name='all-MiniLM-L6-v2', device=None):\n",
    "        self.device = device\n",
    "        self.model = SentenceTransformer(model_name, device=device)\n",
    "\n",
    "    @torch.no_grad()\n",
    "    def __call__(self, df):\n",
    "        x = self.model.encode(df.values, show_progress_bar=True,\n",
    "                              convert_to_tensor=True, device=self.device)\n",
    "        return x.cpu()"
   ]
  },
  {
   "cell_type": "code",
   "execution_count": 87,
   "metadata": {
    "ExecuteTime": {
     "end_time": "2024-11-29T09:24:53.954594Z",
     "start_time": "2024-11-29T09:24:53.948005Z"
    }
   },
   "outputs": [],
   "source": [
    "class GenresEncoder:\n",
    "    def __init__(self, sep='|'):\n",
    "        self.sep = sep\n",
    "\n",
    "    def __call__(self, df):\n",
    "        genres = set(g for col in df.values for g in col.split(self.sep))\n",
    "        mapping = {genre: i for i, genre in enumerate(genres)}\n",
    "\n",
    "        x = torch.zeros(len(df), len(mapping))\n",
    "        for i, col in enumerate(df.values):\n",
    "            for genre in col.split(self.sep):\n",
    "                x[i, mapping[genre]] = 1\n",
    "        return x"
   ]
  },
  {
   "cell_type": "code",
   "execution_count": 88,
   "metadata": {
    "ExecuteTime": {
     "end_time": "2024-11-29T09:24:53.982128Z",
     "start_time": "2024-11-29T09:24:53.963271Z"
    }
   },
   "outputs": [
    {
     "ename": "NameError",
     "evalue": "name 'load_node_csv' is not defined",
     "output_type": "error",
     "traceback": [
      "\u001b[1;31m---------------------------------------------------------------------------\u001b[0m",
      "\u001b[1;31mNameError\u001b[0m                                 Traceback (most recent call last)",
      "Cell \u001b[1;32mIn[88], line 1\u001b[0m\n\u001b[1;32m----> 1\u001b[0m movie_x, movie_mapping \u001b[38;5;241m=\u001b[39m \u001b[43mload_node_csv\u001b[49m(\n\u001b[0;32m      2\u001b[0m     movie_path, index_col\u001b[38;5;241m=\u001b[39m\u001b[38;5;124m'\u001b[39m\u001b[38;5;124mmovieId\u001b[39m\u001b[38;5;124m'\u001b[39m, encoders\u001b[38;5;241m=\u001b[39m{\n\u001b[0;32m      3\u001b[0m         \u001b[38;5;124m'\u001b[39m\u001b[38;5;124mtitle\u001b[39m\u001b[38;5;124m'\u001b[39m: SequenceEncoder(),\n\u001b[0;32m      4\u001b[0m         \u001b[38;5;124m'\u001b[39m\u001b[38;5;124mgenres\u001b[39m\u001b[38;5;124m'\u001b[39m: GenresEncoder()\n\u001b[0;32m      5\u001b[0m     })\n",
      "\u001b[1;31mNameError\u001b[0m: name 'load_node_csv' is not defined"
     ]
    }
   ],
   "source": [
    "movie_x, movie_mapping = load_node_csv(\n",
    "    movie_path, index_col='movieId', encoders={\n",
    "        'title': SequenceEncoder(),\n",
    "        'genres': GenresEncoder()\n",
    "    })"
   ]
  },
  {
   "cell_type": "code",
   "execution_count": 89,
   "metadata": {
    "ExecuteTime": {
     "end_time": "2024-11-29T09:24:54.003480Z",
     "start_time": "2024-11-29T09:24:53.982128Z"
    }
   },
   "outputs": [
    {
     "ename": "NameError",
     "evalue": "name 'load_node_csv' is not defined",
     "output_type": "error",
     "traceback": [
      "\u001b[1;31m---------------------------------------------------------------------------\u001b[0m",
      "\u001b[1;31mNameError\u001b[0m                                 Traceback (most recent call last)",
      "Cell \u001b[1;32mIn[89], line 1\u001b[0m\n\u001b[1;32m----> 1\u001b[0m user_x, user_mapping \u001b[38;5;241m=\u001b[39m \u001b[43mload_node_csv\u001b[49m(rating_path, index_col\u001b[38;5;241m=\u001b[39m\u001b[38;5;124m'\u001b[39m\u001b[38;5;124muserId\u001b[39m\u001b[38;5;124m'\u001b[39m)\n",
      "\u001b[1;31mNameError\u001b[0m: name 'load_node_csv' is not defined"
     ]
    }
   ],
   "source": [
    "user_x, user_mapping = load_node_csv(rating_path, index_col='userId')"
   ]
  },
  {
   "cell_type": "code",
   "execution_count": 90,
   "metadata": {
    "ExecuteTime": {
     "end_time": "2024-11-29T09:24:54.041780Z",
     "start_time": "2024-11-29T09:24:54.014653Z"
    }
   },
   "outputs": [
    {
     "ename": "ModuleNotFoundError",
     "evalue": "No module named 'torch_geometric'",
     "output_type": "error",
     "traceback": [
      "\u001b[1;31m---------------------------------------------------------------------------\u001b[0m",
      "\u001b[1;31mModuleNotFoundError\u001b[0m                       Traceback (most recent call last)",
      "Cell \u001b[1;32mIn[90], line 1\u001b[0m\n\u001b[1;32m----> 1\u001b[0m \u001b[38;5;28;01mfrom\u001b[39;00m \u001b[38;5;21;01mtorch_geometric\u001b[39;00m\u001b[38;5;21;01m.\u001b[39;00m\u001b[38;5;21;01mdata\u001b[39;00m \u001b[38;5;28;01mimport\u001b[39;00m HeteroData\n\u001b[0;32m      3\u001b[0m data \u001b[38;5;241m=\u001b[39m HeteroData()\n\u001b[0;32m      5\u001b[0m data[\u001b[38;5;124m'\u001b[39m\u001b[38;5;124muser\u001b[39m\u001b[38;5;124m'\u001b[39m]\u001b[38;5;241m.\u001b[39mnum_nodes \u001b[38;5;241m=\u001b[39m \u001b[38;5;28mlen\u001b[39m(user_mapping)  \u001b[38;5;66;03m# Users do not have any features.\u001b[39;00m\n",
      "\u001b[1;31mModuleNotFoundError\u001b[0m: No module named 'torch_geometric'"
     ]
    }
   ],
   "source": [
    "from torch_geometric.data import HeteroData\n",
    "\n",
    "data = HeteroData()\n",
    "\n",
    "data['user'].num_nodes = len(user_mapping)  # Users do not have any features.\n",
    "data['movie'].x = movie_x\n",
    "\n",
    "print(data)"
   ]
  },
  {
   "cell_type": "code",
   "execution_count": 91,
   "metadata": {
    "ExecuteTime": {
     "end_time": "2024-11-29T09:24:54.075760Z",
     "start_time": "2024-11-29T09:24:54.069780Z"
    }
   },
   "outputs": [],
   "source": [
    "def load_edge_csv(path, src_index_col, src_mapping, dst_index_col, dst_mapping,\n",
    "                  encoders=None, **kwargs):\n",
    "    df = pd.read_csv(path, **kwargs)\n",
    "\n",
    "    src = [src_mapping[index] for index in df[src_index_col]]\n",
    "    dst = [dst_mapping[index] for index in df[dst_index_col]]\n",
    "    edge_index = torch.tensor([src, dst])\n",
    "\n",
    "    edge_attr = None\n",
    "    if encoders is not None:\n",
    "        edge_attrs = [encoder(df[col]) for col, encoder in encoders.items()]\n",
    "        edge_attr = torch.cat(edge_attrs, dim=-1)\n",
    "\n",
    "    return edge_index, edge_attr"
   ]
  },
  {
   "cell_type": "code",
   "execution_count": 92,
   "metadata": {
    "ExecuteTime": {
     "end_time": "2024-11-29T09:24:54.137675Z",
     "start_time": "2024-11-29T09:24:54.131826Z"
    }
   },
   "outputs": [],
   "source": [
    "class IdentityEncoder:\n",
    "    def __init__(self, dtype=None):\n",
    "        self.dtype = dtype\n",
    "\n",
    "    def __call__(self, df):\n",
    "        return torch.from_numpy(df.values).view(-1, 1).to(self.dtype)"
   ]
  },
  {
   "cell_type": "code",
   "execution_count": 93,
   "metadata": {
    "ExecuteTime": {
     "end_time": "2024-11-29T09:24:54.189287Z",
     "start_time": "2024-11-29T09:24:54.167232Z"
    }
   },
   "outputs": [
    {
     "ename": "NameError",
     "evalue": "name 'rating_path' is not defined",
     "output_type": "error",
     "traceback": [
      "\u001b[1;31m---------------------------------------------------------------------------\u001b[0m",
      "\u001b[1;31mNameError\u001b[0m                                 Traceback (most recent call last)",
      "Cell \u001b[1;32mIn[93], line 2\u001b[0m\n\u001b[0;32m      1\u001b[0m edge_index, edge_label \u001b[38;5;241m=\u001b[39m load_edge_csv(\n\u001b[1;32m----> 2\u001b[0m     \u001b[43mrating_path\u001b[49m,\n\u001b[0;32m      3\u001b[0m     src_index_col\u001b[38;5;241m=\u001b[39m\u001b[38;5;124m'\u001b[39m\u001b[38;5;124muserId\u001b[39m\u001b[38;5;124m'\u001b[39m,\n\u001b[0;32m      4\u001b[0m     src_mapping\u001b[38;5;241m=\u001b[39muser_mapping,\n\u001b[0;32m      5\u001b[0m     dst_index_col\u001b[38;5;241m=\u001b[39m\u001b[38;5;124m'\u001b[39m\u001b[38;5;124mmovieId\u001b[39m\u001b[38;5;124m'\u001b[39m,\n\u001b[0;32m      6\u001b[0m     dst_mapping\u001b[38;5;241m=\u001b[39mmovie_mapping,\n\u001b[0;32m      7\u001b[0m     encoders\u001b[38;5;241m=\u001b[39m{\u001b[38;5;124m'\u001b[39m\u001b[38;5;124mrating\u001b[39m\u001b[38;5;124m'\u001b[39m: IdentityEncoder(dtype\u001b[38;5;241m=\u001b[39mtorch\u001b[38;5;241m.\u001b[39mlong)},\n\u001b[0;32m      8\u001b[0m )\n\u001b[0;32m     10\u001b[0m data[\u001b[38;5;124m'\u001b[39m\u001b[38;5;124muser\u001b[39m\u001b[38;5;124m'\u001b[39m, \u001b[38;5;124m'\u001b[39m\u001b[38;5;124mrates\u001b[39m\u001b[38;5;124m'\u001b[39m, \u001b[38;5;124m'\u001b[39m\u001b[38;5;124mmovie\u001b[39m\u001b[38;5;124m'\u001b[39m]\u001b[38;5;241m.\u001b[39medge_index \u001b[38;5;241m=\u001b[39m edge_index\n\u001b[0;32m     11\u001b[0m data[\u001b[38;5;124m'\u001b[39m\u001b[38;5;124muser\u001b[39m\u001b[38;5;124m'\u001b[39m, \u001b[38;5;124m'\u001b[39m\u001b[38;5;124mrates\u001b[39m\u001b[38;5;124m'\u001b[39m, \u001b[38;5;124m'\u001b[39m\u001b[38;5;124mmovie\u001b[39m\u001b[38;5;124m'\u001b[39m]\u001b[38;5;241m.\u001b[39medge_label \u001b[38;5;241m=\u001b[39m edge_label\n",
      "\u001b[1;31mNameError\u001b[0m: name 'rating_path' is not defined"
     ]
    }
   ],
   "source": [
    "edge_index, edge_label = load_edge_csv(\n",
    "    rating_path,\n",
    "    src_index_col='userId',\n",
    "    src_mapping=user_mapping,\n",
    "    dst_index_col='movieId',\n",
    "    dst_mapping=movie_mapping,\n",
    "    encoders={'rating': IdentityEncoder(dtype=torch.long)},\n",
    ")\n",
    "\n",
    "data['user', 'rates', 'movie'].edge_index = edge_index\n",
    "data['user', 'rates', 'movie'].edge_label = edge_label\n"
   ]
  },
  {
   "cell_type": "code",
   "execution_count": null,
   "metadata": {},
   "outputs": [],
   "source": [
    "from torch import nn ,optim, Tensor\n",
    "num_node = len(user_mapping)+len(movie_mapping)\n",
    "user_emb = nn.Embedding(num_embeddings=len(user_mapping)+1, embedding_dim=movie_x.size(dim=1))\n",
    "nn.init.normal_(user_emb.weight, std=0.1)\n",
    "user_x=torch.arange(1,len(user_mapping)+1).view(1,-1)\n",
    "user_x = torch.LongTensor(user_x)\n",
    "user_x = user_emb(user_x)\n",
    "user_x = user_x.squeeze(0)"
   ]
  },
  {
   "cell_type": "code",
   "execution_count": null,
   "metadata": {},
   "outputs": [],
   "source": [
    "from torch_geometric.utils import structured_negative_sampling\n",
    "#edge_index_new = structured_negative_sampling(edge_index)\n",
    "#edge_index_new = torch.stack(edge_index_new, dim=0)"
   ]
  },
  {
   "cell_type": "code",
   "execution_count": 94,
   "metadata": {
    "ExecuteTime": {
     "end_time": "2024-11-29T09:24:54.222156Z",
     "start_time": "2024-11-29T09:24:54.194928Z"
    }
   },
   "outputs": [
    {
     "ename": "NameError",
     "evalue": "name 'edge_index' is not defined",
     "output_type": "error",
     "traceback": [
      "\u001b[1;31m---------------------------------------------------------------------------\u001b[0m",
      "\u001b[1;31mNameError\u001b[0m                                 Traceback (most recent call last)",
      "Cell \u001b[1;32mIn[94], line 18\u001b[0m\n\u001b[0;32m     16\u001b[0m     user_indices, pos_item_indices, neg_item_indices \u001b[38;5;241m=\u001b[39m batch[\u001b[38;5;241m0\u001b[39m], batch[\u001b[38;5;241m1\u001b[39m], batch[\u001b[38;5;241m2\u001b[39m]\n\u001b[0;32m     17\u001b[0m     \u001b[38;5;28;01mreturn\u001b[39;00m user_indices, pos_item_indices, neg_item_indices\n\u001b[1;32m---> 18\u001b[0m edge_index_samp \u001b[38;5;241m=\u001b[39m sample_mini_batch(\u001b[38;5;241m64\u001b[39m,\u001b[43medge_index\u001b[49m)\n",
      "\u001b[1;31mNameError\u001b[0m: name 'edge_index' is not defined"
     ]
    }
   ],
   "source": [
    "import random\n",
    "def sample_mini_batch(batch_size, edge_index):\n",
    "    \"\"\"\n",
    "    Args:\n",
    "        batch_size (int): 批大小\n",
    "        edge_index (torch.Tensor): 2*N的边列表\n",
    "    Returns:\n",
    "        tuple: user indices, positive item indices, negative item indices\n",
    "    \"\"\"\n",
    "   \n",
    "    edges = structured_negative_sampling(edge_index)\n",
    "    edges = torch.stack(edges, dim=0)\n",
    "    indices = random.choices(\n",
    "        [i for i in range(edges[0].shape[0])], k=batch_size)\n",
    "    batch = edges[:, indices]\n",
    "    user_indices, pos_item_indices, neg_item_indices = batch[0], batch[1], batch[2]\n",
    "    return user_indices, pos_item_indices, neg_item_indices\n",
    "edge_index_samp = sample_mini_batch(64,edge_index)\n",
    "\n"
   ]
  },
  {
   "cell_type": "code",
   "execution_count": null,
   "metadata": {
    "ExecuteTime": {
     "end_time": "2024-11-29T09:24:54.224164Z",
     "start_time": "2024-11-29T09:24:54.223166Z"
    }
   },
   "outputs": [],
   "source": [
    "import torch\n",
    "from torch_geometric.seed import seed_everything\n",
    "from torch_geometric.nn import MessagePassing\n",
    "seed_everything(11)\n",
    "from torch_geometric.utils import add_self_loops, degree"
   ]
  },
  {
   "cell_type": "code",
   "execution_count": 95,
   "metadata": {
    "ExecuteTime": {
     "end_time": "2024-11-29T09:24:54.274245Z",
     "start_time": "2024-11-29T09:24:54.236299Z"
    }
   },
   "outputs": [
    {
     "ename": "NameError",
     "evalue": "name 'MessagePassing' is not defined",
     "output_type": "error",
     "traceback": [
      "\u001b[1;31m---------------------------------------------------------------------------\u001b[0m",
      "\u001b[1;31mNameError\u001b[0m                                 Traceback (most recent call last)",
      "Cell \u001b[1;32mIn[95], line 2\u001b[0m\n\u001b[0;32m      1\u001b[0m \u001b[38;5;66;03m# 定义GCN空域图卷积神经网络\u001b[39;00m\n\u001b[1;32m----> 2\u001b[0m \u001b[38;5;28;01mclass\u001b[39;00m \u001b[38;5;21;01mGCNConv\u001b[39;00m(\u001b[43mMessagePassing\u001b[49m):\n\u001b[0;32m      3\u001b[0m     \u001b[38;5;66;03m# 网络初始化\u001b[39;00m\n\u001b[0;32m      4\u001b[0m     \u001b[38;5;28;01mdef\u001b[39;00m \u001b[38;5;21m__init__\u001b[39m(\u001b[38;5;28mself\u001b[39m, in_channels, out_channels):\n\u001b[0;32m      5\u001b[0m \u001b[38;5;250m        \u001b[39m\u001b[38;5;124;03m\"\"\"\u001b[39;00m\n\u001b[0;32m      6\u001b[0m \u001b[38;5;124;03m        :param in_channels: 节点属性向量的维度\u001b[39;00m\n\u001b[0;32m      7\u001b[0m \u001b[38;5;124;03m        :param out_channels: 经过图卷积之后，节点的特征表示维度\u001b[39;00m\n\u001b[0;32m      8\u001b[0m \u001b[38;5;124;03m        \"\"\"\u001b[39;00m\n",
      "\u001b[1;31mNameError\u001b[0m: name 'MessagePassing' is not defined"
     ]
    }
   ],
   "source": [
    "# 定义GCN空域图卷积神经网络\n",
    "class GCNConv(MessagePassing):\n",
    "    # 网络初始化\n",
    "    def __init__(self, in_channels, out_channels):\n",
    "        \"\"\"\n",
    "        :param in_channels: 节点属性向量的维度\n",
    "        :param out_channels: 经过图卷积之后，节点的特征表示维度\n",
    "        \"\"\"\n",
    "        # 定义伽马函数为求和函数,aggr='add'\n",
    "        super(GCNConv, self).__init__(aggr='add')\n",
    "        # 定义最里面那个线性变换\n",
    "        # 具体到实现中就是一个线性层\n",
    "        self.linear_change = torch.nn.Linear(in_channels, out_channels)\n",
    " \n",
    "    # 定义信息汇聚函数\n",
    "    def message(self, x_j, norm):\n",
    "        # 正则化\n",
    "        # norm.view(-1,1)将norm变为一个列向量\n",
    "        # x_j是节点的特征表示矩阵\n",
    "        return norm.view(-1, 1) * x_j\n",
    " \n",
    "    # 前向传递，进行图卷积\n",
    "    def forward(self, x, edge_index):\n",
    "        \"\"\"\n",
    "        :param x:图中的节点，维度为[节点数,节点属性相邻维度数]\n",
    "        :param edge_index: 图中边的连接信息,维度为[2,边数]\n",
    "        :return:\n",
    "        \"\"\"\n",
    "        # 添加节点到自身的环\n",
    "        # 因为节点最后面汇聚相邻节点信息时包含自身\n",
    "        # add_self_loops会在edge_index边的连接信息表中，\n",
    "        # 添加形如[i,i]这样的信息\n",
    "        # 表示一个节点到自身的环\n",
    "        # 函数返回[边的连接信息，边上的属性信息]\n",
    "        edge_index, _ = add_self_loops(edge_index, num_nodes=x.size(0))\n",
    "        # 进行线性变换\n",
    "        x = self.linear_change(x)\n",
    "        # 计算外面的正则化\n",
    "        row, col = edge_index\n",
    "        # 获取节点的度\n",
    "        deg = degree(col, x.size(0), dtype=x.dtype)\n",
    "        # 带入外面的正则化公式\n",
    "        deg_inv_sqrt = deg.pow(-0.5)\n",
    "        # 将未知的值设为0，避免下面计算出错\n",
    "        deg_inv_sqrt[deg_inv_sqrt == float('inf')] = 0\n",
    "        # 正则化部分\n",
    "        norm = deg_inv_sqrt[row] * deg_inv_sqrt[col]\n",
    "        # 进行信息传递和融合\n",
    "        # propagate会自动调用self.message函数，并将参数传递给它\n",
    "        return self.propagate(edge_index, x=x, norm=norm)\n"
   ]
  },
  {
   "cell_type": "code",
   "execution_count": null,
   "metadata": {
    "ExecuteTime": {
     "end_time": "2024-11-29T09:24:54.276690Z",
     "start_time": "2024-11-29T09:24:54.275677Z"
    }
   },
   "outputs": [],
   "source": [
    "# 实例化一个图卷积神经网络\n",
    "# 并假设图节点属性向量的维度为16，图卷积出来的节点特征表示向量维度为32\n",
    "conv = GCNConv(404, 32)\n",
    "# 随机生成一个节点属性向量\n",
    "# 5个节点，属性向量为16维\n",
    "# 随机生成边的连接信息\n",
    "# 假设有3条边\n",
    "edge_index = torch.tensor(edge_index, dtype=torch.long)\n",
    "# 进行图卷积\n",
    "output = conv(movie_x, edge_index)\n",
    "# 输出卷积之后的特征表示矩阵"
   ]
  },
  {
   "cell_type": "code",
   "execution_count": null,
   "metadata": {},
   "outputs": [],
   "source": [
    "\n",
    "def bpr_loss(users_emb_final, users_emb_0, pos_items_emb_final, pos_items_emb_0, neg_items_emb_final, neg_items_emb_0, lambda_val):\n",
    "    \"\"\"\n",
    "    Args:\n",
    "        users_emb_final (torch.Tensor): e_u^k\n",
    "        users_emb_0 (torch.Tensor): e_u^0\n",
    "        pos_items_emb_final (torch.Tensor): positive e_i^k\n",
    "        pos_items_emb_0 (torch.Tensor): positive e_i^0\n",
    "        neg_items_emb_final (torch.Tensor): negative e_i^k\n",
    "        neg_items_emb_0 (torch.Tensor): negative e_i^0\n",
    "        lambda_val (float): λ的值\n",
    "    Returns:\n",
    "        torch.Tensor: loss值\n",
    "    \"\"\"\n",
    "    reg_loss = lambda_val * (users_emb_0.norm(2).pow(2) +\n",
    "                             pos_items_emb_0.norm(2).pow(2) +\n",
    "                             neg_items_emb_0.norm(2).pow(2))  # L2 loss L2范数是指向量各元素的平方和然后求平方根\n",
    "\n",
    "    pos_scores = torch.mul(users_emb_final, pos_items_emb_final)\n",
    "    pos_scores = torch.sum(pos_scores, dim=-1) # 正采样预测分数\n",
    "    neg_scores = torch.mul(users_emb_final, neg_items_emb_final)\n",
    "    neg_scores = torch.sum(neg_scores, dim=-1) # 负采样预测分数\n",
    "\n",
    "    loss = -torch.mean(torch.nn.functional.softplus(pos_scores - neg_scores)) + reg_loss\n",
    "\n",
    "    return loss"
   ]
  },
  {
   "cell_type": "code",
   "execution_count": 96,
   "metadata": {
    "ExecuteTime": {
     "end_time": "2024-11-29T09:24:54.327277Z",
     "start_time": "2024-11-29T09:24:54.305425Z"
    }
   },
   "outputs": [
    {
     "ename": "NameError",
     "evalue": "name 'nn' is not defined",
     "output_type": "error",
     "traceback": [
      "\u001b[1;31m---------------------------------------------------------------------------\u001b[0m",
      "\u001b[1;31mNameError\u001b[0m                                 Traceback (most recent call last)",
      "Cell \u001b[1;32mIn[96], line 5\u001b[0m\n\u001b[0;32m      3\u001b[0m epochs \u001b[38;5;241m=\u001b[39m \u001b[38;5;241m5\u001b[39m\n\u001b[0;32m      4\u001b[0m ITERATIONS \u001b[38;5;241m=\u001b[39m \u001b[38;5;241m256\u001b[39m\n\u001b[1;32m----> 5\u001b[0m loss_fn \u001b[38;5;241m=\u001b[39m \u001b[43mnn\u001b[49m\u001b[38;5;241m.\u001b[39mCrossEntropyLoss()\n\u001b[0;32m      6\u001b[0m optimizer \u001b[38;5;241m=\u001b[39m optim\u001b[38;5;241m.\u001b[39mAdam(GCNConv\u001b[38;5;241m.\u001b[39mparameters(), learning_rate)\n\u001b[0;32m      7\u001b[0m \u001b[38;5;28;01mfor\u001b[39;00m \u001b[38;5;28miter\u001b[39m \u001b[38;5;129;01min\u001b[39;00m ITERATIONS:\n",
      "\u001b[1;31mNameError\u001b[0m: name 'nn' is not defined"
     ]
    }
   ],
   "source": [
    "learning_rate = 1e-3\n",
    "batch_size = 64\n",
    "epochs = 5\n",
    "ITERATIONS = 256\n",
    "loss_fn = nn.CrossEntropyLoss()\n",
    "optimizer = optim.Adam(GCNConv.parameters(), learning_rate)\n",
    "for iter in ITERATIONS:\n",
    "    \n",
    "    output = conv(movie_x, edge_index)\n",
    "    loss = loss_fn(pred, y)"
   ]
  }
 ],
 "metadata": {
  "kernelspec": {
   "display_name": "graph_learn",
   "language": "python",
   "name": "python3"
  },
  "language_info": {
   "codemirror_mode": {
    "name": "ipython",
    "version": 3
   },
   "file_extension": ".py",
   "mimetype": "text/x-python",
   "name": "python",
   "nbconvert_exporter": "python",
   "pygments_lexer": "ipython3",
   "version": "3.10.15"
  }
 },
 "nbformat": 4,
 "nbformat_minor": 2
}
